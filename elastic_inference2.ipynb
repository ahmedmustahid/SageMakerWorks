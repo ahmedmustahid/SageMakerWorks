{
 "cells": [
  {
   "cell_type": "code",
   "execution_count": 3,
   "id": "8f199023",
   "metadata": {},
   "outputs": [
    {
     "name": "stdout",
     "output_type": "stream",
     "text": [
      "\u001b[33mWARNING: You are using pip version 21.1.2; however, version 21.2.1 is available.\n",
      "You should consider upgrading via the '/home/ec2-user/anaconda3/envs/python3/bin/python -m pip install --upgrade pip' command.\u001b[0m\n"
     ]
    }
   ],
   "source": [
    "!pip -q install sagemaker pandas awscli --upgrade"
   ]
  },
  {
   "cell_type": "code",
   "execution_count": 2,
   "id": "6db2be20",
   "metadata": {},
   "outputs": [
    {
     "name": "stdout",
     "output_type": "stream",
     "text": [
      "Requirement already satisfied: boto3 in /home/ec2-user/anaconda3/envs/python3/lib/python3.6/site-packages (1.17.99)\n",
      "Collecting boto3\n",
      "  Downloading boto3-1.18.8-py3-none-any.whl (131 kB)\n",
      "\u001b[K     |████████████████████████████████| 131 kB 16.5 MB/s eta 0:00:01\n",
      "\u001b[?25hRequirement already satisfied: jmespath<1.0.0,>=0.7.1 in /home/ec2-user/anaconda3/envs/python3/lib/python3.6/site-packages (from boto3) (0.10.0)\n",
      "Collecting botocore<1.22.0,>=1.21.8\n",
      "  Downloading botocore-1.21.8-py3-none-any.whl (7.8 MB)\n",
      "\u001b[K     |████████████████████████████████| 7.8 MB 51.6 MB/s eta 0:00:01\n",
      "\u001b[?25hCollecting s3transfer<0.6.0,>=0.5.0\n",
      "  Downloading s3transfer-0.5.0-py3-none-any.whl (79 kB)\n",
      "\u001b[K     |████████████████████████████████| 79 kB 934 kB/s s eta 0:00:01\n",
      "\u001b[?25hRequirement already satisfied: urllib3<1.27,>=1.25.4 in /home/ec2-user/anaconda3/envs/python3/lib/python3.6/site-packages (from botocore<1.22.0,>=1.21.8->boto3) (1.26.5)\n",
      "Requirement already satisfied: python-dateutil<3.0.0,>=2.1 in /home/ec2-user/anaconda3/envs/python3/lib/python3.6/site-packages (from botocore<1.22.0,>=1.21.8->boto3) (2.8.1)\n",
      "Requirement already satisfied: six>=1.5 in /home/ec2-user/anaconda3/envs/python3/lib/python3.6/site-packages (from python-dateutil<3.0.0,>=2.1->botocore<1.22.0,>=1.21.8->boto3) (1.15.0)\n",
      "Installing collected packages: botocore, s3transfer, boto3\n",
      "  Attempting uninstall: botocore\n",
      "    Found existing installation: botocore 1.20.112\n",
      "    Uninstalling botocore-1.20.112:\n",
      "      Successfully uninstalled botocore-1.20.112\n",
      "  Attempting uninstall: s3transfer\n",
      "    Found existing installation: s3transfer 0.4.2\n",
      "    Uninstalling s3transfer-0.4.2:\n",
      "      Successfully uninstalled s3transfer-0.4.2\n",
      "  Attempting uninstall: boto3\n",
      "    Found existing installation: boto3 1.17.99\n",
      "    Uninstalling boto3-1.17.99:\n",
      "      Successfully uninstalled boto3-1.17.99\n",
      "\u001b[31mERROR: pip's dependency resolver does not currently take into account all the packages that are installed. This behaviour is the source of the following dependency conflicts.\n",
      "awscli 1.19.112 requires botocore==1.20.112, but you have botocore 1.21.8 which is incompatible.\n",
      "awscli 1.19.112 requires s3transfer<0.5.0,>=0.4.0, but you have s3transfer 0.5.0 which is incompatible.\n",
      "aiobotocore 1.3.0 requires botocore<1.20.50,>=1.20.49, but you have botocore 1.21.8 which is incompatible.\u001b[0m\n",
      "Successfully installed boto3-1.18.8 botocore-1.21.8 s3transfer-0.5.0\n",
      "\u001b[33mWARNING: You are using pip version 21.1.2; however, version 21.2.1 is available.\n",
      "You should consider upgrading via the '/home/ec2-user/anaconda3/envs/python3/bin/python -m pip install --upgrade pip' command.\u001b[0m\n"
     ]
    }
   ],
   "source": [
    "!pip install boto3 --upgrade"
   ]
  },
  {
   "cell_type": "code",
   "execution_count": 1,
   "id": "577889ae",
   "metadata": {},
   "outputs": [
    {
     "name": "stdout",
     "output_type": "stream",
     "text": [
      "2.45.0\n",
      "env: bucket=s3://sagemaker-ap-northeast-1-906756132937\n"
     ]
    }
   ],
   "source": [
    "import boto3\n",
    "import sagemaker\n",
    "\n",
    "print(sagemaker.__version__)\n",
    "session = sagemaker.Session()\n",
    "bucket = session.default_bucket()\n",
    "\n",
    "%env bucket s3://$bucket"
   ]
  },
  {
   "cell_type": "code",
   "execution_count": 2,
   "id": "8469aaae",
   "metadata": {},
   "outputs": [
    {
     "name": "stderr",
     "output_type": "stream",
     "text": [
      "The method get_image_uri has been renamed in sagemaker>=2.\n",
      "See: https://sagemaker.readthedocs.io/en/stable/v2.html for details.\n",
      "Defaulting to the only supported framework/algorithm version: 1. Ignoring framework/algorithm version: latest.\n"
     ]
    },
    {
     "name": "stdout",
     "output_type": "stream",
     "text": [
      "Using algorithm 501404015308.dkr.ecr.ap-northeast-1.amazonaws.com/image-classification:1\n"
     ]
    }
   ],
   "source": [
    "region_name = boto3.Session().region_name\n",
    "\n",
    "algorithm = sagemaker.amazon.amazon_estimator.get_image_uri(\n",
    "    region_name, \"image-classification\", \"latest\")\n",
    "\n",
    "print(\"Using algorithm %s\" % algorithm)"
   ]
  },
  {
   "cell_type": "code",
   "execution_count": 6,
   "id": "494e4a71",
   "metadata": {},
   "outputs": [
    {
     "name": "stdout",
     "output_type": "stream",
     "text": [
      "--2021-07-28 10:21:30--  http://data.mxnet.io/data/caltech-256/caltech-256-60-train.rec\n",
      "Resolving data.mxnet.io (data.mxnet.io)... 172.217.25.115, 2404:6800:4004:813::2013\n",
      "Connecting to data.mxnet.io (data.mxnet.io)|172.217.25.115|:80... connected.\n",
      "HTTP request sent, awaiting response... 301 Moved Permanently\n",
      "Location: http://data.mxnet.io.s3-website-us-west-1.amazonaws.com/data/caltech-256/caltech-256-60-train.rec [following]\n",
      "--2021-07-28 10:21:30--  http://data.mxnet.io.s3-website-us-west-1.amazonaws.com/data/caltech-256/caltech-256-60-train.rec\n",
      "Resolving data.mxnet.io.s3-website-us-west-1.amazonaws.com (data.mxnet.io.s3-website-us-west-1.amazonaws.com)... 52.219.113.35\n",
      "Connecting to data.mxnet.io.s3-website-us-west-1.amazonaws.com (data.mxnet.io.s3-website-us-west-1.amazonaws.com)|52.219.113.35|:80... connected.\n",
      "HTTP request sent, awaiting response... 200 OK\n",
      "Length: 363622688 (347M) [binary/octet-stream]\n",
      "Saving to: ‘caltech-256-60-train.rec’\n",
      "\n",
      "caltech-256-60-trai 100%[===================>] 346.78M  13.9MB/s    in 26s     \n",
      "\n",
      "2021-07-28 10:21:56 (13.5 MB/s) - ‘caltech-256-60-train.rec’ saved [363622688/363622688]\n",
      "\n",
      "--2021-07-28 10:21:56--  http://data.mxnet.io/data/caltech-256/caltech-256-60-val.rec\n",
      "Resolving data.mxnet.io (data.mxnet.io)... 172.217.25.115, 2404:6800:4004:813::2013\n",
      "Connecting to data.mxnet.io (data.mxnet.io)|172.217.25.115|:80... connected.\n",
      "HTTP request sent, awaiting response... 301 Moved Permanently\n",
      "Location: http://data.mxnet.io.s3-website-us-west-1.amazonaws.com/data/caltech-256/caltech-256-60-val.rec [following]\n",
      "--2021-07-28 10:21:56--  http://data.mxnet.io.s3-website-us-west-1.amazonaws.com/data/caltech-256/caltech-256-60-val.rec\n",
      "Resolving data.mxnet.io.s3-website-us-west-1.amazonaws.com (data.mxnet.io.s3-website-us-west-1.amazonaws.com)... 52.219.112.251\n",
      "Connecting to data.mxnet.io.s3-website-us-west-1.amazonaws.com (data.mxnet.io.s3-website-us-west-1.amazonaws.com)|52.219.112.251|:80... connected.\n",
      "HTTP request sent, awaiting response... 200 OK\n",
      "Length: 360242580 (344M) [binary/octet-stream]\n",
      "Saving to: ‘caltech-256-60-val.rec’\n",
      "\n",
      "caltech-256-60-val. 100%[===================>] 343.55M  14.0MB/s    in 25s     \n",
      "\n",
      "2021-07-28 10:22:22 (13.6 MB/s) - ‘caltech-256-60-val.rec’ saved [360242580/360242580]\n",
      "\n"
     ]
    }
   ],
   "source": [
    "!wget http://data.mxnet.io/data/caltech-256/caltech-256-60-train.rec\n",
    "!wget http://data.mxnet.io/data/caltech-256/caltech-256-60-val.rec"
   ]
  },
  {
   "cell_type": "code",
   "execution_count": 3,
   "id": "e51b632b",
   "metadata": {},
   "outputs": [
    {
     "name": "stdout",
     "output_type": "stream",
     "text": [
      "env: s3_train=s3://sagemaker-ap-northeast-1-906756132937/train/\n",
      "env: s3_validation=s3://sagemaker-ap-northeast-1-906756132937/validation/\n",
      "env: s3_output=s3://sagemaker-ap-northeast-1-906756132937/output\n"
     ]
    }
   ],
   "source": [
    "session.upload_data(path='caltech-256-60-train.rec', bucket=bucket, key_prefix='train')\n",
    "session.upload_data(path='caltech-256-60-val.rec',   bucket=bucket, key_prefix='validation')\n",
    "\n",
    "s3_train      = 's3://{}/train/'.format(bucket)\n",
    "s3_validation = 's3://{}/validation/'.format(bucket)\n",
    "s3_output     = 's3://{}/output'.format(bucket)\n",
    "\n",
    "%env s3_train      $s3_train\n",
    "%env s3_validation $s3_validation\n",
    "%env s3_output     $s3_output"
   ]
  },
  {
   "cell_type": "code",
   "execution_count": 4,
   "id": "8fddc78d",
   "metadata": {},
   "outputs": [
    {
     "name": "stderr",
     "output_type": "stream",
     "text": [
      "The class sagemaker.session.s3_input has been renamed in sagemaker>=2.\n",
      "See: https://sagemaker.readthedocs.io/en/stable/v2.html for details.\n",
      "The class sagemaker.session.s3_input has been renamed in sagemaker>=2.\n",
      "See: https://sagemaker.readthedocs.io/en/stable/v2.html for details.\n"
     ]
    }
   ],
   "source": [
    "train_data = sagemaker.session.s3_input(s3_train, \n",
    "                                    distribution='FullyReplicated',        \n",
    "                                    content_type='application/x-recordio', \n",
    "                                    s3_data_type='S3Prefix')\n",
    "\n",
    "validation_data = sagemaker.session.s3_input(s3_validation,\n",
    "                                             distribution='FullyReplicated', \n",
    "                                             content_type='application/x-recordio', \n",
    "                                             s3_data_type='S3Prefix')\n",
    "\n",
    "data_channels = {'train': train_data, 'validation': validation_data}"
   ]
  },
  {
   "cell_type": "code",
   "execution_count": 5,
   "id": "af1846b6",
   "metadata": {},
   "outputs": [
    {
     "name": "stderr",
     "output_type": "stream",
     "text": [
      "train_instance_count has been renamed in sagemaker>=2.\n",
      "See: https://sagemaker.readthedocs.io/en/stable/v2.html for details.\n",
      "train_instance_type has been renamed in sagemaker>=2.\n",
      "See: https://sagemaker.readthedocs.io/en/stable/v2.html for details.\n"
     ]
    }
   ],
   "source": [
    "ic = sagemaker.estimator.Estimator(algorithm,\n",
    "                                   sagemaker.get_execution_role(), \n",
    "                                   train_instance_count=1, \n",
    "                                   train_instance_type='ml.p2.xlarge',\n",
    "                                   output_path=s3_output,\n",
    "                                   sagemaker_session=session)"
   ]
  },
  {
   "cell_type": "code",
   "execution_count": 15,
   "id": "fc65f3b0",
   "metadata": {},
   "outputs": [],
   "source": [
    "ic.set_hyperparameters(num_layers=18,               # Train a Resnet-18 model\n",
    "                       use_pretrained_model=1,      # Fine-tune on our dataset\n",
    "                       image_shape=\"3,224,224\",   # 3 channels (RGB), 224x224 pixels\n",
    "                       num_classes=257,             # 256 classes + 1 clutter class\n",
    "                       num_training_samples=15420,  # Number of training samples\n",
    "                       mini_batch_size=128,\n",
    "                       epochs=1,                  # Learn the training samples 1 times\n",
    "                       learning_rate=0.1)"
   ]
  },
  {
   "cell_type": "code",
   "execution_count": 16,
   "id": "21d7d977",
   "metadata": {},
   "outputs": [
    {
     "name": "stdout",
     "output_type": "stream",
     "text": [
      "2021-07-28 11:18:28 Starting - Starting the training job...\n",
      "2021-07-28 11:18:30 Starting - Launching requested ML instancesProfilerReport-1627471108: InProgress\n",
      "......\n",
      "2021-07-28 11:19:44 Starting - Preparing the instances for training...............\n",
      "2021-07-28 11:22:24 Downloading - Downloading input data...\n",
      "2021-07-28 11:22:45 Training - Downloading the training image..\u001b[34mDocker entrypoint called with argument(s): train\u001b[0m\n",
      "\u001b[34m[07/28/2021 11:23:09 INFO 140679680079680] Reading default configuration from /opt/amazon/lib/python3.7/site-packages/image_classification/default-input.json: {'use_pretrained_model': 0, 'num_layers': 152, 'epochs': 30, 'learning_rate': 0.1, 'lr_scheduler_factor': 0.1, 'optimizer': 'sgd', 'momentum': 0, 'weight_decay': 0.0001, 'beta_1': 0.9, 'beta_2': 0.999, 'eps': 1e-08, 'gamma': 0.9, 'mini_batch_size': 32, 'image_shape': '3,224,224', 'precision_dtype': 'float32'}\u001b[0m\n",
      "\u001b[34m[07/28/2021 11:23:09 INFO 140679680079680] Merging with provided configuration from /opt/ml/input/config/hyperparameters.json: {'num_classes': '257', 'num_training_samples': '15420', 'use_pretrained_model': '1', 'num_layers': '18', 'epochs': '1', 'image_shape': '3,224,224', 'learning_rate': '0.1', 'mini_batch_size': '128'}\u001b[0m\n",
      "\u001b[34m[07/28/2021 11:23:09 INFO 140679680079680] Final configuration: {'use_pretrained_model': '1', 'num_layers': '18', 'epochs': '1', 'learning_rate': '0.1', 'lr_scheduler_factor': 0.1, 'optimizer': 'sgd', 'momentum': 0, 'weight_decay': 0.0001, 'beta_1': 0.9, 'beta_2': 0.999, 'eps': 1e-08, 'gamma': 0.9, 'mini_batch_size': '128', 'image_shape': '3,224,224', 'precision_dtype': 'float32', 'num_classes': '257', 'num_training_samples': '15420'}\u001b[0m\n",
      "\u001b[34m[07/28/2021 11:23:09 INFO 140679680079680] Searching for .rec files in /opt/ml/input/data/train.\u001b[0m\n",
      "\u001b[34m[07/28/2021 11:23:09 INFO 140679680079680] Searching for .rec files in /opt/ml/input/data/validation.\u001b[0m\n",
      "\u001b[34m[07/28/2021 11:23:09 INFO 140679680079680] use_pretrained_model: 1\u001b[0m\n",
      "\u001b[34m[07/28/2021 11:23:09 INFO 140679680079680] multi_label: 0\u001b[0m\n",
      "\u001b[34m[07/28/2021 11:23:09 INFO 140679680079680] Using pretrained model for initializing weights and transfer learning.\u001b[0m\n",
      "\u001b[34m[07/28/2021 11:23:09 INFO 140679680079680] ---- Parameters ----\u001b[0m\n",
      "\u001b[34m[07/28/2021 11:23:09 INFO 140679680079680] num_layers: 18\u001b[0m\n",
      "\u001b[34m[07/28/2021 11:23:09 INFO 140679680079680] data type: <class 'numpy.float32'>\u001b[0m\n",
      "\u001b[34m[07/28/2021 11:23:09 INFO 140679680079680] epochs: 1\u001b[0m\n",
      "\u001b[34m[07/28/2021 11:23:09 INFO 140679680079680] optimizer: sgd\u001b[0m\n",
      "\u001b[34m[07/28/2021 11:23:09 INFO 140679680079680] momentum: 0.9\u001b[0m\n",
      "\u001b[34m[07/28/2021 11:23:09 INFO 140679680079680] weight_decay: 0.0001\u001b[0m\n",
      "\u001b[34m[07/28/2021 11:23:09 INFO 140679680079680] learning_rate: 0.1\u001b[0m\n",
      "\u001b[34m[07/28/2021 11:23:09 INFO 140679680079680] num_training_samples: 15420\u001b[0m\n",
      "\u001b[34m[07/28/2021 11:23:09 INFO 140679680079680] mini_batch_size: 128\u001b[0m\n",
      "\u001b[34m[07/28/2021 11:23:09 INFO 140679680079680] image_shape: 3,224,224\u001b[0m\n",
      "\u001b[34m[07/28/2021 11:23:09 INFO 140679680079680] num_classes: 257\u001b[0m\n",
      "\u001b[34m[07/28/2021 11:23:09 INFO 140679680079680] augmentation_type: None\u001b[0m\n",
      "\u001b[34m[07/28/2021 11:23:09 INFO 140679680079680] kv_store: device\u001b[0m\n",
      "\u001b[34m[07/28/2021 11:23:09 INFO 140679680079680] checkpoint_frequency not set, will store the best model\u001b[0m\n",
      "\u001b[34m[07/28/2021 11:23:09 INFO 140679680079680] --------------------\u001b[0m\n",
      "\u001b[34m[11:23:09] /opt/brazil-pkg-cache/packages/AIAlgorithmsMXNet/AIAlgorithmsMXNet-1.3.x_ecl_Cuda_10.1.x.6753.0/AL2_x86_64/generic-flavor/src/src/nnvm/legacy_json_util.cc:209: Loading symbol saved by previous version v0.8.0. Attempting to upgrade...\u001b[0m\n",
      "\u001b[34m[11:23:09] /opt/brazil-pkg-cache/packages/AIAlgorithmsMXNet/AIAlgorithmsMXNet-1.3.x_ecl_Cuda_10.1.x.6753.0/AL2_x86_64/generic-flavor/src/src/nnvm/legacy_json_util.cc:217: Symbol successfully upgraded!\u001b[0m\n",
      "\u001b[34m[07/28/2021 11:23:10 INFO 140679680079680] Setting number of threads: 3\u001b[0m\n",
      "\n",
      "2021-07-28 11:23:25 Training - Training image download completed. Training in progress.\u001b[34m[11:23:19] /opt/brazil-pkg-cache/packages/AIAlgorithmsMXNet/AIAlgorithmsMXNet-1.3.x_ecl_Cuda_10.1.x.6753.0/AL2_x86_64/generic-flavor/src/src/operator/nn/./cudnn/./cudnn_algoreg-inl.h:97: Running performance tests to find the best convolution algorithm, this can take a while... (setting env variable MXNET_CUDNN_AUTOTUNE_DEFAULT to 0 to disable)\u001b[0m\n",
      "\u001b[34m[07/28/2021 11:23:40 INFO 140679680079680] Epoch[0] Batch [20]#011Speed: 116.625 samples/sec#011accuracy=0.091518\u001b[0m\n",
      "\u001b[34m[07/28/2021 11:23:55 INFO 140679680079680] Epoch[0] Batch [40]#011Speed: 136.674 samples/sec#011accuracy=0.118902\u001b[0m\n",
      "\u001b[34m[07/28/2021 11:24:11 INFO 140679680079680] Epoch[0] Batch [60]#011Speed: 144.778 samples/sec#011accuracy=0.153560\u001b[0m\n",
      "\u001b[34m[07/28/2021 11:24:27 INFO 140679680079680] Epoch[0] Batch [80]#011Speed: 149.233 samples/sec#011accuracy=0.186150\u001b[0m\n",
      "\u001b[34m[07/28/2021 11:24:42 INFO 140679680079680] Epoch[0] Batch [100]#011Speed: 152.035 samples/sec#011accuracy=0.214805\u001b[0m\n",
      "\u001b[34m[07/28/2021 11:24:57 INFO 140679680079680] Epoch[0] Train-accuracy=0.240951\u001b[0m\n",
      "\u001b[34m[07/28/2021 11:24:57 INFO 140679680079680] Epoch[0] Time cost=98.983\u001b[0m\n",
      "\n",
      "2021-07-28 11:25:30 Uploading - Uploading generated training model\u001b[34m[07/28/2021 11:25:26 INFO 140679680079680] Epoch[0] Validation-accuracy=0.340796\u001b[0m\n",
      "\u001b[34m[07/28/2021 11:25:26 INFO 140679680079680] Storing the best model with validation accuracy: 0.340796\u001b[0m\n",
      "\u001b[34m[07/28/2021 11:25:26 INFO 140679680079680] Saved checkpoint to \"/opt/ml/model/image-classification-0001.params\"\u001b[0m\n",
      "\n",
      "2021-07-28 11:25:45 Completed - Training job completed\n",
      "Training seconds: 212\n",
      "Billable seconds: 212\n"
     ]
    }
   ],
   "source": [
    "ic.fit(inputs=data_channels, logs=True)"
   ]
  },
  {
   "cell_type": "code",
   "execution_count": 17,
   "id": "58d6079d",
   "metadata": {},
   "outputs": [
    {
     "ename": "ResourceLimitExceeded",
     "evalue": "An error occurred (ResourceLimitExceeded) when calling the CreateEndpoint operation: The account-level service limit 'Number of elastic inference accelerators across active endpoints' is 0 Accelerators, with current utilization of 0 Accelerators and a request delta of 1 Accelerators. Please contact AWS support to request an increase for this limit.",
     "output_type": "error",
     "traceback": [
      "\u001b[0;31m---------------------------------------------------------------------------\u001b[0m",
      "\u001b[0;31mResourceLimitExceeded\u001b[0m                     Traceback (most recent call last)",
      "\u001b[0;32m<ipython-input-17-c8c7007b7458>\u001b[0m in \u001b[0;36m<module>\u001b[0;34m\u001b[0m\n\u001b[1;32m      2\u001b[0m                          \u001b[0minstance_type\u001b[0m\u001b[0;34m=\u001b[0m\u001b[0;34m'ml.p2.xlarge'\u001b[0m\u001b[0;34m,\u001b[0m\u001b[0;34m\u001b[0m\u001b[0;34m\u001b[0m\u001b[0m\n\u001b[1;32m      3\u001b[0m                          \u001b[0maccelerator_type\u001b[0m\u001b[0;34m=\u001b[0m\u001b[0;34m'ml.eia2.xlarge'\u001b[0m\u001b[0;34m,\u001b[0m\u001b[0;34m\u001b[0m\u001b[0;34m\u001b[0m\u001b[0m\n\u001b[0;32m----> 4\u001b[0;31m                          endpoint_name='ic-endpoint-ei')\n\u001b[0m",
      "\u001b[0;32m~/anaconda3/envs/python3/lib/python3.6/site-packages/sagemaker/estimator.py\u001b[0m in \u001b[0;36mdeploy\u001b[0;34m(self, initial_instance_count, instance_type, serializer, deserializer, accelerator_type, endpoint_name, use_compiled_model, wait, model_name, kms_key, data_capture_config, tags, **kwargs)\u001b[0m\n\u001b[1;32m    949\u001b[0m             \u001b[0mwait\u001b[0m\u001b[0;34m=\u001b[0m\u001b[0mwait\u001b[0m\u001b[0;34m,\u001b[0m\u001b[0;34m\u001b[0m\u001b[0;34m\u001b[0m\u001b[0m\n\u001b[1;32m    950\u001b[0m             \u001b[0mkms_key\u001b[0m\u001b[0;34m=\u001b[0m\u001b[0mkms_key\u001b[0m\u001b[0;34m,\u001b[0m\u001b[0;34m\u001b[0m\u001b[0;34m\u001b[0m\u001b[0m\n\u001b[0;32m--> 951\u001b[0;31m             \u001b[0mdata_capture_config\u001b[0m\u001b[0;34m=\u001b[0m\u001b[0mdata_capture_config\u001b[0m\u001b[0;34m,\u001b[0m\u001b[0;34m\u001b[0m\u001b[0;34m\u001b[0m\u001b[0m\n\u001b[0m\u001b[1;32m    952\u001b[0m         )\n\u001b[1;32m    953\u001b[0m \u001b[0;34m\u001b[0m\u001b[0m\n",
      "\u001b[0;32m~/anaconda3/envs/python3/lib/python3.6/site-packages/sagemaker/model.py\u001b[0m in \u001b[0;36mdeploy\u001b[0;34m(self, initial_instance_count, instance_type, serializer, deserializer, accelerator_type, endpoint_name, tags, kms_key, wait, data_capture_config, **kwargs)\u001b[0m\n\u001b[1;32m    783\u001b[0m             \u001b[0mkms_key\u001b[0m\u001b[0;34m=\u001b[0m\u001b[0mkms_key\u001b[0m\u001b[0;34m,\u001b[0m\u001b[0;34m\u001b[0m\u001b[0;34m\u001b[0m\u001b[0m\n\u001b[1;32m    784\u001b[0m             \u001b[0mwait\u001b[0m\u001b[0;34m=\u001b[0m\u001b[0mwait\u001b[0m\u001b[0;34m,\u001b[0m\u001b[0;34m\u001b[0m\u001b[0;34m\u001b[0m\u001b[0m\n\u001b[0;32m--> 785\u001b[0;31m             \u001b[0mdata_capture_config_dict\u001b[0m\u001b[0;34m=\u001b[0m\u001b[0mdata_capture_config_dict\u001b[0m\u001b[0;34m,\u001b[0m\u001b[0;34m\u001b[0m\u001b[0;34m\u001b[0m\u001b[0m\n\u001b[0m\u001b[1;32m    786\u001b[0m         )\n\u001b[1;32m    787\u001b[0m \u001b[0;34m\u001b[0m\u001b[0m\n",
      "\u001b[0;32m~/anaconda3/envs/python3/lib/python3.6/site-packages/sagemaker/session.py\u001b[0m in \u001b[0;36mendpoint_from_production_variants\u001b[0;34m(self, name, production_variants, tags, kms_key, wait, data_capture_config_dict)\u001b[0m\n\u001b[1;32m   3477\u001b[0m \u001b[0;34m\u001b[0m\u001b[0m\n\u001b[1;32m   3478\u001b[0m             \u001b[0mself\u001b[0m\u001b[0;34m.\u001b[0m\u001b[0msagemaker_client\u001b[0m\u001b[0;34m.\u001b[0m\u001b[0mcreate_endpoint_config\u001b[0m\u001b[0;34m(\u001b[0m\u001b[0;34m**\u001b[0m\u001b[0mconfig_options\u001b[0m\u001b[0;34m)\u001b[0m\u001b[0;34m\u001b[0m\u001b[0;34m\u001b[0m\u001b[0m\n\u001b[0;32m-> 3479\u001b[0;31m         \u001b[0;32mreturn\u001b[0m \u001b[0mself\u001b[0m\u001b[0;34m.\u001b[0m\u001b[0mcreate_endpoint\u001b[0m\u001b[0;34m(\u001b[0m\u001b[0mendpoint_name\u001b[0m\u001b[0;34m=\u001b[0m\u001b[0mname\u001b[0m\u001b[0;34m,\u001b[0m \u001b[0mconfig_name\u001b[0m\u001b[0;34m=\u001b[0m\u001b[0mname\u001b[0m\u001b[0;34m,\u001b[0m \u001b[0mtags\u001b[0m\u001b[0;34m=\u001b[0m\u001b[0mtags\u001b[0m\u001b[0;34m,\u001b[0m \u001b[0mwait\u001b[0m\u001b[0;34m=\u001b[0m\u001b[0mwait\u001b[0m\u001b[0;34m)\u001b[0m\u001b[0;34m\u001b[0m\u001b[0;34m\u001b[0m\u001b[0m\n\u001b[0m\u001b[1;32m   3480\u001b[0m \u001b[0;34m\u001b[0m\u001b[0m\n\u001b[1;32m   3481\u001b[0m     \u001b[0;32mdef\u001b[0m \u001b[0mexpand_role\u001b[0m\u001b[0;34m(\u001b[0m\u001b[0mself\u001b[0m\u001b[0;34m,\u001b[0m \u001b[0mrole\u001b[0m\u001b[0;34m)\u001b[0m\u001b[0;34m:\u001b[0m\u001b[0;34m\u001b[0m\u001b[0;34m\u001b[0m\u001b[0m\n",
      "\u001b[0;32m~/anaconda3/envs/python3/lib/python3.6/site-packages/sagemaker/session.py\u001b[0m in \u001b[0;36mcreate_endpoint\u001b[0;34m(self, endpoint_name, config_name, tags, wait)\u001b[0m\n\u001b[1;32m   2977\u001b[0m \u001b[0;34m\u001b[0m\u001b[0m\n\u001b[1;32m   2978\u001b[0m         self.sagemaker_client.create_endpoint(\n\u001b[0;32m-> 2979\u001b[0;31m             \u001b[0mEndpointName\u001b[0m\u001b[0;34m=\u001b[0m\u001b[0mendpoint_name\u001b[0m\u001b[0;34m,\u001b[0m \u001b[0mEndpointConfigName\u001b[0m\u001b[0;34m=\u001b[0m\u001b[0mconfig_name\u001b[0m\u001b[0;34m,\u001b[0m \u001b[0mTags\u001b[0m\u001b[0;34m=\u001b[0m\u001b[0mtags\u001b[0m\u001b[0;34m\u001b[0m\u001b[0;34m\u001b[0m\u001b[0m\n\u001b[0m\u001b[1;32m   2980\u001b[0m         )\n\u001b[1;32m   2981\u001b[0m         \u001b[0;32mif\u001b[0m \u001b[0mwait\u001b[0m\u001b[0;34m:\u001b[0m\u001b[0;34m\u001b[0m\u001b[0;34m\u001b[0m\u001b[0m\n",
      "\u001b[0;32m~/anaconda3/envs/python3/lib/python3.6/site-packages/botocore/client.py\u001b[0m in \u001b[0;36m_api_call\u001b[0;34m(self, *args, **kwargs)\u001b[0m\n\u001b[1;32m    384\u001b[0m                     \"%s() only accepts keyword arguments.\" % py_operation_name)\n\u001b[1;32m    385\u001b[0m             \u001b[0;31m# The \"self\" in this scope is referring to the BaseClient.\u001b[0m\u001b[0;34m\u001b[0m\u001b[0;34m\u001b[0m\u001b[0;34m\u001b[0m\u001b[0m\n\u001b[0;32m--> 386\u001b[0;31m             \u001b[0;32mreturn\u001b[0m \u001b[0mself\u001b[0m\u001b[0;34m.\u001b[0m\u001b[0m_make_api_call\u001b[0m\u001b[0;34m(\u001b[0m\u001b[0moperation_name\u001b[0m\u001b[0;34m,\u001b[0m \u001b[0mkwargs\u001b[0m\u001b[0;34m)\u001b[0m\u001b[0;34m\u001b[0m\u001b[0;34m\u001b[0m\u001b[0m\n\u001b[0m\u001b[1;32m    387\u001b[0m \u001b[0;34m\u001b[0m\u001b[0m\n\u001b[1;32m    388\u001b[0m         \u001b[0m_api_call\u001b[0m\u001b[0;34m.\u001b[0m\u001b[0m__name__\u001b[0m \u001b[0;34m=\u001b[0m \u001b[0mstr\u001b[0m\u001b[0;34m(\u001b[0m\u001b[0mpy_operation_name\u001b[0m\u001b[0;34m)\u001b[0m\u001b[0;34m\u001b[0m\u001b[0;34m\u001b[0m\u001b[0m\n",
      "\u001b[0;32m~/anaconda3/envs/python3/lib/python3.6/site-packages/botocore/client.py\u001b[0m in \u001b[0;36m_make_api_call\u001b[0;34m(self, operation_name, api_params)\u001b[0m\n\u001b[1;32m    703\u001b[0m             \u001b[0merror_code\u001b[0m \u001b[0;34m=\u001b[0m \u001b[0mparsed_response\u001b[0m\u001b[0;34m.\u001b[0m\u001b[0mget\u001b[0m\u001b[0;34m(\u001b[0m\u001b[0;34m\"Error\"\u001b[0m\u001b[0;34m,\u001b[0m \u001b[0;34m{\u001b[0m\u001b[0;34m}\u001b[0m\u001b[0;34m)\u001b[0m\u001b[0;34m.\u001b[0m\u001b[0mget\u001b[0m\u001b[0;34m(\u001b[0m\u001b[0;34m\"Code\"\u001b[0m\u001b[0;34m)\u001b[0m\u001b[0;34m\u001b[0m\u001b[0;34m\u001b[0m\u001b[0m\n\u001b[1;32m    704\u001b[0m             \u001b[0merror_class\u001b[0m \u001b[0;34m=\u001b[0m \u001b[0mself\u001b[0m\u001b[0;34m.\u001b[0m\u001b[0mexceptions\u001b[0m\u001b[0;34m.\u001b[0m\u001b[0mfrom_code\u001b[0m\u001b[0;34m(\u001b[0m\u001b[0merror_code\u001b[0m\u001b[0;34m)\u001b[0m\u001b[0;34m\u001b[0m\u001b[0;34m\u001b[0m\u001b[0m\n\u001b[0;32m--> 705\u001b[0;31m             \u001b[0;32mraise\u001b[0m \u001b[0merror_class\u001b[0m\u001b[0;34m(\u001b[0m\u001b[0mparsed_response\u001b[0m\u001b[0;34m,\u001b[0m \u001b[0moperation_name\u001b[0m\u001b[0;34m)\u001b[0m\u001b[0;34m\u001b[0m\u001b[0;34m\u001b[0m\u001b[0m\n\u001b[0m\u001b[1;32m    706\u001b[0m         \u001b[0;32melse\u001b[0m\u001b[0;34m:\u001b[0m\u001b[0;34m\u001b[0m\u001b[0;34m\u001b[0m\u001b[0m\n\u001b[1;32m    707\u001b[0m             \u001b[0;32mreturn\u001b[0m \u001b[0mparsed_response\u001b[0m\u001b[0;34m\u001b[0m\u001b[0;34m\u001b[0m\u001b[0m\n",
      "\u001b[0;31mResourceLimitExceeded\u001b[0m: An error occurred (ResourceLimitExceeded) when calling the CreateEndpoint operation: The account-level service limit 'Number of elastic inference accelerators across active endpoints' is 0 Accelerators, with current utilization of 0 Accelerators and a request delta of 1 Accelerators. Please contact AWS support to request an increase for this limit."
     ]
    }
   ],
   "source": [
    "ic_endpoint_ei = ic.deploy(initial_instance_count=1,\n",
    "                         instance_type='ml.p2.xlarge',        \n",
    "                         accelerator_type='ml.eia2.xlarge',  \n",
    "                         endpoint_name='ic-endpoint-ei')"
   ]
  },
  {
   "cell_type": "code",
   "execution_count": null,
   "id": "e3c6f58c",
   "metadata": {},
   "outputs": [],
   "source": []
  }
 ],
 "metadata": {
  "kernelspec": {
   "display_name": "conda_python3",
   "language": "python",
   "name": "conda_python3"
  },
  "language_info": {
   "codemirror_mode": {
    "name": "ipython",
    "version": 3
   },
   "file_extension": ".py",
   "mimetype": "text/x-python",
   "name": "python",
   "nbconvert_exporter": "python",
   "pygments_lexer": "ipython3",
   "version": "3.6.13"
  }
 },
 "nbformat": 4,
 "nbformat_minor": 5
}
