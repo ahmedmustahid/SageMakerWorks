{
 "cells": [
  {
   "cell_type": "code",
   "execution_count": 1,
   "id": "0f289fe2",
   "metadata": {},
   "outputs": [
    {
     "name": "stdout",
     "output_type": "stream",
     "text": [
      "arn:aws:iam::906756132937:role/service-role/AmazonSageMaker-ExecutionRole-20210726T113143\n",
      "demosagemakerbucket0\n"
     ]
    }
   ],
   "source": [
    "import sagemaker\n",
    "from sagemaker import get_execution_role\n",
    "import boto3\n",
    "import json\n",
    "\n",
    "sess = sagemaker.Session()\n",
    "\n",
    "role = get_execution_role()\n",
    "print(\n",
    "    role\n",
    ")  # This is the role that SageMaker would use to leverage AWS resources (S3, CloudWatch) on your behalf\n",
    "\n",
    "bucket = \"demosagemakerbucket0\" # Replace with your own bucket name if needed\n",
    "print(bucket)\n",
    "prefix = \"demosagemakerbucket0/fasttext/pretrained\""
   ]
  },
  {
   "cell_type": "code",
   "execution_count": 2,
   "id": "758de447",
   "metadata": {},
   "outputs": [],
   "source": [
    "region_name = boto3.Session().region_name"
   ]
  },
  {
   "cell_type": "code",
   "execution_count": 3,
   "id": "3c13dbd6",
   "metadata": {},
   "outputs": [
    {
     "name": "stdout",
     "output_type": "stream",
     "text": [
      "Using SageMaker BlazingText container: 501404015308.dkr.ecr.ap-northeast-1.amazonaws.com/blazingtext:1 (ap-northeast-1)\n"
     ]
    }
   ],
   "source": [
    "container = sagemaker.amazon.amazon_estimator.image_uris.retrieve(\"blazingtext\", region_name, \"1\")\n",
    "print(\"Using SageMaker BlazingText container: {} ({})\".format(container, region_name))"
   ]
  },
  {
   "cell_type": "code",
   "execution_count": 5,
   "id": "f8723fcd",
   "metadata": {},
   "outputs": [
    {
     "name": "stdout",
     "output_type": "stream",
     "text": [
      "--2021-07-29 05:03:22--  https://dl.fbaipublicfiles.com/fasttext/supervised-models/lid.176.bin\n",
      "Resolving dl.fbaipublicfiles.com (dl.fbaipublicfiles.com)... 104.22.75.142, 172.67.9.4, 104.22.74.142, ...\n",
      "Connecting to dl.fbaipublicfiles.com (dl.fbaipublicfiles.com)|104.22.75.142|:443... connected.\n",
      "HTTP request sent, awaiting response... 200 OK\n",
      "Length: 131266198 (125M) [application/octet-stream]\n",
      "Saving to: ‘model.bin’\n",
      "\n",
      "model.bin           100%[===================>] 125.18M  13.8MB/s    in 10s     \n",
      "\n",
      "2021-07-29 05:03:32 (12.6 MB/s) - ‘model.bin’ saved [131266198/131266198]\n",
      "\n"
     ]
    }
   ],
   "source": [
    "!wget -O model.bin https://dl.fbaipublicfiles.com/fasttext/supervised-models/lid.176.bin\n"
   ]
  },
  {
   "cell_type": "code",
   "execution_count": 6,
   "id": "a407cd65",
   "metadata": {},
   "outputs": [
    {
     "name": "stdout",
     "output_type": "stream",
     "text": [
      "model.bin\n",
      "s3://demosagemakerbucket0/demosagemakerbucket0/fasttext/pretrained/langid.tar.gz\n"
     ]
    }
   ],
   "source": [
    "!tar -czvf langid.tar.gz model.bin\n",
    "model_location = sess.upload_data(\"langid.tar.gz\", bucket=bucket, key_prefix=prefix)\n",
    "print(model_location)\n",
    "!rm langid.tar.gz model.bin"
   ]
  },
  {
   "cell_type": "code",
   "execution_count": 7,
   "id": "667cbb28",
   "metadata": {},
   "outputs": [
    {
     "name": "stdout",
     "output_type": "stream",
     "text": [
      "--------------!"
     ]
    }
   ],
   "source": [
    "\n",
    "lang_id = sagemaker.Model(\n",
    "    image_uri=container, model_data=model_location, role=role, sagemaker_session=sess\n",
    ")\n",
    "#lang_id.deploy(initial_instance_count=1, instance_type=\"ml.m5.xlarge\",accelerator_type='ml.eia2.xlarge')\n",
    "lang_id.deploy(initial_instance_count=1, instance_type=\"ml.m5.xlarge\")\n",
    "from sagemaker.deserializers import JSONDeserializer\n",
    "from sagemaker.serializers import JSONSerializer\n",
    "\n",
    "predictor = sagemaker.Predictor(\n",
    "    endpoint_name=lang_id.endpoint_name,\n",
    "    sagemaker_session=sess,\n",
    "    serializer=JSONSerializer(),\n",
    "    deserializer=JSONDeserializer(),\n",
    ")"
   ]
  },
  {
   "cell_type": "code",
   "execution_count": 8,
   "id": "65dd470e",
   "metadata": {},
   "outputs": [],
   "source": [
    "sentences = [\n",
    "    \"hi which language is this?\",\n",
    "    \"mon nom est Pierre\",\n",
    "    \"Dem Jungen gab ich einen Ball.\",\n",
    "    \"আমি বাড়ি যাবো.\",\n",
    "]\n",
    "payload = {\"instances\": sentences}"
   ]
  },
  {
   "cell_type": "code",
   "execution_count": 9,
   "id": "9ff6b22f",
   "metadata": {},
   "outputs": [
    {
     "data": {
      "text/plain": [
       "{'instances': ['hi which language is this?',\n",
       "  'mon nom est Pierre',\n",
       "  'Dem Jungen gab ich einen Ball.',\n",
       "  'আমি বাড়ি যাবো.']}"
      ]
     },
     "execution_count": 9,
     "metadata": {},
     "output_type": "execute_result"
    }
   ],
   "source": [
    "payload"
   ]
  },
  {
   "cell_type": "code",
   "execution_count": 16,
   "id": "3ae21f17",
   "metadata": {},
   "outputs": [],
   "source": [
    "payload_test= {\n",
    "  \"instances\": [\n",
    "\n",
    "    'I eat rice' ,    \n",
    "    'I go'     \n",
    "  ]\n",
    "}"
   ]
  },
  {
   "cell_type": "code",
   "execution_count": 10,
   "id": "c2d9f25b",
   "metadata": {},
   "outputs": [
    {
     "ename": "NameError",
     "evalue": "name 'payload_test' is not defined",
     "output_type": "error",
     "traceback": [
      "\u001b[0;31m---------------------------------------------------------------------------\u001b[0m",
      "\u001b[0;31mNameError\u001b[0m                                 Traceback (most recent call last)",
      "\u001b[0;32m<ipython-input-10-9d8aa9af575a>\u001b[0m in \u001b[0;36m<module>\u001b[0;34m\u001b[0m\n\u001b[0;32m----> 1\u001b[0;31m \u001b[0mpredictions\u001b[0m \u001b[0;34m=\u001b[0m \u001b[0mpredictor\u001b[0m\u001b[0;34m.\u001b[0m\u001b[0mpredict\u001b[0m\u001b[0;34m(\u001b[0m\u001b[0mpayload_test\u001b[0m\u001b[0;34m)\u001b[0m\u001b[0;34m\u001b[0m\u001b[0;34m\u001b[0m\u001b[0m\n\u001b[0m\u001b[1;32m      2\u001b[0m \u001b[0mprint\u001b[0m\u001b[0;34m(\u001b[0m\u001b[0mpredictions\u001b[0m\u001b[0;34m)\u001b[0m\u001b[0;34m\u001b[0m\u001b[0;34m\u001b[0m\u001b[0m\n",
      "\u001b[0;31mNameError\u001b[0m: name 'payload_test' is not defined"
     ]
    }
   ],
   "source": [
    "predictions = predictor.predict(payload_test)\n",
    "print(predictions)"
   ]
  },
  {
   "cell_type": "code",
   "execution_count": 11,
   "id": "08c875df",
   "metadata": {},
   "outputs": [
    {
     "name": "stdout",
     "output_type": "stream",
     "text": [
      "[{'label': ['__label__en'], 'prob': [0.9948582053184509]}, {'label': ['__label__fr'], 'prob': [0.9984669089317322]}, {'label': ['__label__de'], 'prob': [0.9946573972702026]}, {'label': ['__label__bn'], 'prob': [0.9997219443321228]}]\n"
     ]
    }
   ],
   "source": [
    "predictions = predictor.predict(payload)\n",
    "print(predictions)"
   ]
  },
  {
   "cell_type": "code",
   "execution_count": 13,
   "id": "bb91c378",
   "metadata": {},
   "outputs": [
    {
     "name": "stdout",
     "output_type": "stream",
     "text": [
      "[{'label': 'EN', 'prob': [0.9948582053184509]}, {'label': 'FR', 'prob': [0.9984669089317322]}, {'label': 'DE', 'prob': [0.9946573972702026]}, {'label': 'BN', 'prob': [0.9997219443321228]}]\n"
     ]
    }
   ],
   "source": [
    "import copy\n",
    "\n",
    "predictions_copy = copy.deepcopy(\n",
    "    predictions\n",
    ")  # Copying predictions object because we want to change the labels in-place\n",
    "for output in predictions_copy:\n",
    "    output[\"label\"] = output[\"label\"][0][9:].upper()  # __label__ has length of 9\n",
    "\n",
    "print(predictions_copy)\n"
   ]
  },
  {
   "cell_type": "code",
   "execution_count": 14,
   "id": "c5eb53b9",
   "metadata": {},
   "outputs": [],
   "source": [
    "predictor.delete_endpoint()"
   ]
  },
  {
   "cell_type": "code",
   "execution_count": 3,
   "id": "2c31da59",
   "metadata": {},
   "outputs": [
    {
     "name": "stdout",
     "output_type": "stream",
     "text": [
      "anaconda3  Nvidia_Cloud_EULA.pdf  sample-notebooks\t       tools\n",
      "examples   README\t\t  sample-notebooks-1627625996  tutorials\n",
      "LICENSE    SageMaker\t\t  src\n"
     ]
    }
   ],
   "source": [
    "!ls ..\n"
   ]
  },
  {
   "cell_type": "code",
   "execution_count": 4,
   "id": "cd568a1b",
   "metadata": {},
   "outputs": [
    {
     "name": "stdout",
     "output_type": "stream",
     "text": [
      "/home/ec2-user/SageMaker\n"
     ]
    }
   ],
   "source": [
    "!pwd"
   ]
  },
  {
   "cell_type": "code",
   "execution_count": 7,
   "id": "65825598",
   "metadata": {},
   "outputs": [
    {
     "name": "stdout",
     "output_type": "stream",
     "text": [
      "caltech-256-60-train.rec  object2vec_movie_recommendation_2021-07-28\n",
      "caltech-256-60-val.rec\t  object2vec_movie_recommendation_2021-07-29\n",
      "lost+found\t\t  Untitled1.ipynb\n",
      "NLP.ipynb\t\t  Untitled.ipynb\n"
     ]
    }
   ],
   "source": [
    "!ls"
   ]
  },
  {
   "cell_type": "code",
   "execution_count": 8,
   "id": "99df1ca4",
   "metadata": {},
   "outputs": [],
   "source": [
    "!rm -rf *.rec"
   ]
  },
  {
   "cell_type": "code",
   "execution_count": 9,
   "id": "1f2f151d",
   "metadata": {},
   "outputs": [],
   "source": [
    "!rm -rf object2vec_movie_recommendation_*"
   ]
  },
  {
   "cell_type": "code",
   "execution_count": 10,
   "id": "2c77dbe5",
   "metadata": {},
   "outputs": [
    {
     "name": "stdout",
     "output_type": "stream",
     "text": [
      "lost+found  NLP.ipynb  SageMakerWorks  Untitled1.ipynb\tUntitled.ipynb\n"
     ]
    }
   ],
   "source": [
    "!ls"
   ]
  },
  {
   "cell_type": "code",
   "execution_count": 13,
   "id": "0e921069",
   "metadata": {},
   "outputs": [
    {
     "name": "stdout",
     "output_type": "stream",
     "text": [
      "NLP.ipynb  Untitled1.ipynb  Untitled.ipynb\n"
     ]
    }
   ],
   "source": [
    "!ls SageMakerWorks/\n"
   ]
  },
  {
   "cell_type": "code",
   "execution_count": 12,
   "id": "0ddd1dda",
   "metadata": {},
   "outputs": [],
   "source": [
    "!cp *.ipynb SageMakerWorks/"
   ]
  },
  {
   "cell_type": "code",
   "execution_count": 14,
   "id": "7180a982",
   "metadata": {},
   "outputs": [
    {
     "name": "stdout",
     "output_type": "stream",
     "text": [
      "/home/ec2-user/SageMaker/SageMakerWorks\n"
     ]
    }
   ],
   "source": [
    "cd SageMakerWorks/\n"
   ]
  },
  {
   "cell_type": "code",
   "execution_count": 15,
   "id": "558c6342",
   "metadata": {},
   "outputs": [
    {
     "name": "stdout",
     "output_type": "stream",
     "text": [
      "NLP.ipynb  Untitled1.ipynb  Untitled.ipynb\n"
     ]
    }
   ],
   "source": [
    "!ls"
   ]
  },
  {
   "cell_type": "code",
   "execution_count": 16,
   "id": "e65f3fb6",
   "metadata": {},
   "outputs": [],
   "source": [
    "!git add ."
   ]
  },
  {
   "cell_type": "code",
   "execution_count": 17,
   "id": "74642cd2",
   "metadata": {},
   "outputs": [
    {
     "name": "stdout",
     "output_type": "stream",
     "text": [
      "[master (root-commit) 0838855] added sagemaker works\n",
      " Committer: EC2 Default User <ec2-user@ip-172-16-2-89.ap-northeast-1.compute.internal>\n",
      "Your name and email address were configured automatically based\n",
      "on your username and hostname. Please check that they are accurate.\n",
      "You can suppress this message by setting them explicitly:\n",
      "\n",
      "    git config --global user.name \"Your Name\"\n",
      "    git config --global user.email you@example.com\n",
      "\n",
      "After doing this, you may fix the identity used for this commit with:\n",
      "\n",
      "    git commit --amend --reset-author\n",
      "\n",
      " 3 files changed, 915 insertions(+)\n",
      " create mode 100644 NLP.ipynb\n",
      " create mode 100644 Untitled.ipynb\n",
      " create mode 100644 Untitled1.ipynb\n"
     ]
    }
   ],
   "source": [
    "!git commit -m \"added sagemaker works\"\n"
   ]
  },
  {
   "cell_type": "code",
   "execution_count": 18,
   "id": "a9f8a48d",
   "metadata": {},
   "outputs": [],
   "source": [
    "!git config --global user.name \"Ahmed Mustahid\"\n",
    "!git config --global user.email einsteinium25@gmail.com"
   ]
  },
  {
   "cell_type": "code",
   "execution_count": 19,
   "id": "6ef95314",
   "metadata": {},
   "outputs": [
    {
     "name": "stdout",
     "output_type": "stream",
     "text": [
      "hint: Waiting for your editor to close the file... \u001b7\u001b[?47h\u001b[?1h\u001b=\u001b[?2004h\u001b[1;24r\u001b[m\u001b[H\u001b[2J\u001b[24;1H\"~/SageMaker/SageMakerWorks/.git/COMMIT_EDITMSG\" 14L, 312C\u001b[1;1Hadded sagemaker works\n",
      "\n",
      "# Please enter the commit message for your changes. Lines starting\n",
      "# with '#' will be ignored, and an empty message aborts the commit.\n",
      "#\n",
      "# On branch master\n",
      "#\n",
      "# Initial commit\n",
      "#\n",
      "# Changes to be committed:\n",
      "#\u001b[7Cnew file:   NLP.ipynb\n",
      "#\u001b[7Cnew file:   Untitled.ipynb\n",
      "#\u001b[7Cnew file:   Untitled1.ipynb\n",
      "#\n",
      "\u001b[1m\u001b[34m~                                                                               \u001b[16;1H~                                                                               \u001b[17;1H~                                                                               \u001b[18;1H~                                                                               \u001b[19;1H~                                                                               \u001b[20;1H~                                                                               \u001b[21;1H~                                                                               \u001b[22;1H~                                                                               \u001b[23;1H~                                                                               \u001b[1;1H\u001b[m\u001b[24;1HType  :quit<Enter>  to exit Vim\u001b[24;32H\u001b[K\u0007\u001b[1;1H"
     ]
    }
   ],
   "source": [
    "!git commit --amend --reset-author\n"
   ]
  },
  {
   "cell_type": "code",
   "execution_count": 20,
   "id": "db3afcda",
   "metadata": {},
   "outputs": [
    {
     "name": "stdout",
     "output_type": "stream",
     "text": [
      "On branch master\n",
      "Your branch is based on 'origin/master', but the upstream is gone.\n",
      "  (use \"git branch --unset-upstream\" to fixup)\n",
      "\n",
      "nothing to commit, working tree clean\n"
     ]
    }
   ],
   "source": [
    "!git status"
   ]
  },
  {
   "cell_type": "code",
   "execution_count": 21,
   "id": "ccf53026",
   "metadata": {},
   "outputs": [
    {
     "name": "stdout",
     "output_type": "stream",
     "text": [
      "error: src refspec main does not match any.\n",
      "\u001b[31merror: failed to push some refs to 'https://github.com/ahmedmustahid/SageMakerWorks.git'\n",
      "\u001b[m"
     ]
    }
   ],
   "source": [
    "!git push origin main"
   ]
  },
  {
   "cell_type": "code",
   "execution_count": 22,
   "id": "5ea81e08",
   "metadata": {},
   "outputs": [
    {
     "name": "stdout",
     "output_type": "stream",
     "text": [
      "NLP.ipynb  Untitled1.ipynb  Untitled.ipynb\n"
     ]
    }
   ],
   "source": [
    "!ls\n"
   ]
  },
  {
   "cell_type": "code",
   "execution_count": 2,
   "id": "8c069a32",
   "metadata": {},
   "outputs": [],
   "source": [
    "! cd .. && rm -rf SageMakerWorks/"
   ]
  },
  {
   "cell_type": "code",
   "execution_count": null,
   "id": "7523c854",
   "metadata": {},
   "outputs": [],
   "source": []
  }
 ],
 "metadata": {
  "kernelspec": {
   "display_name": "conda_python3",
   "language": "python",
   "name": "conda_python3"
  },
  "language_info": {
   "codemirror_mode": {
    "name": "ipython",
    "version": 3
   },
   "file_extension": ".py",
   "mimetype": "text/x-python",
   "name": "python",
   "nbconvert_exporter": "python",
   "pygments_lexer": "ipython3",
   "version": "3.6.13"
  }
 },
 "nbformat": 4,
 "nbformat_minor": 5
}
